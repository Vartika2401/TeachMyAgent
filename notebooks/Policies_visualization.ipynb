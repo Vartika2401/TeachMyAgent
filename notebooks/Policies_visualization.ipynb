{
 "cells": [
  {
   "cell_type": "markdown",
   "metadata": {},
   "source": [
    "## Purpose\n",
    "This notebook is made to help analysing results produced by TeachMyAgent's experiments. Using this, one can generate videos of policies as shown on our [website](https://developmentalsystems.org/TeachMyAgent/). \n",
    "\n",
    "## How to use this notebook\n",
    "This notebook is broken down into 4 sections:\n",
    "- **Imports**: import needed packages.\n",
    "- **Load Data**: load results produced by experiments and format them (e.g. calculate best seed of each experiment).\n",
    "- **Plot definitions**: define all the plot functions we provide.\n",
    "- **Experiment graphs**: use the previously defined functions to generate the different figures.\n",
    "\n",
    "## Add our paper's results to your plots\n",
    "In order to add the results we provide in our paper to your plots, make sure you have downloaded them:\n",
    "1. Go to the `notebooks` folder\n",
    "2. Make the `download_baselines.sh` script executable: `chmod +x download_baselines.sh`\n",
    "3. Download results: `./download_baselines.sh`\n",
    "> **_WARNING:_**  This will download a zip weighting approximayely 4.5GB. Then, our script will extract the zip file in `TeachMyAgent/data`. Once extracted, results will weight approximately 15GB. \n",
    "----"
   ]
  },
  {
   "cell_type": "markdown",
   "metadata": {},
   "source": [
    "# Imports"
   ]
  },
  {
   "cell_type": "code",
   "execution_count": 72,
   "metadata": {
    "scrolled": true
   },
   "outputs": [
    {
     "name": "stdout",
     "output_type": "stream",
     "text": [
      "1.18.5\n",
      "C:\\Users\\Vartika\\anaconda3\\envs\\teachdrl\\python.exe\n"
     ]
    }
   ],
   "source": [
    "import sys\n",
    "import os\n",
    "import random\n",
    "import math\n",
    "import pylab\n",
    "import copy\n",
    "import re\n",
    "from enum import Enum\n",
    "from collections import OrderedDict\n",
    "\n",
    "import numpy as np\n",
    "\n",
    "DIV_LINE_WIDTH = 50\n",
    "print(np.__version__)\n",
    "print(sys.executable)"
   ]
  },
  {
   "cell_type": "code",
   "execution_count": 73,
   "metadata": {},
   "outputs": [],
   "source": [
    "module_path = os.path.abspath(os.path.join('../'))\n",
    "if module_path not in sys.path:\n",
    "    sys.path.append(module_path)\n",
    "\n",
    "import TeachMyAgent.students.test_policy as test_policy\n",
    "from TeachMyAgent.students.run_logs_util import get_run_logs"
   ]
  },
  {
   "cell_type": "markdown",
   "metadata": {},
   "source": [
    "# Load Data"
   ]
  },
  {
   "cell_type": "code",
   "execution_count": 74,
   "metadata": {
    "scrolled": true
   },
   "outputs": [],
   "source": [
    "# def get_datasets(rootdir, name_filter=None, rename_labels=False):\n",
    "#     \"\"\"\n",
    "#         Loads results of experiments.\n",
    "#\n",
    "#         Results to load can be filtered by their name and each experiment can be associated to a label (usually ACL method's name)\n",
    "#\n",
    "#         :param rootdir: Directory containing experiments to load (do not forget '/' at the end of the path)\n",
    "#         :param name_filter: String experiments to load must contain\n",
    "#         :param rename_labels: If True, each experiment will be associated to a label (see below). Labels are the names that will appear in plots.\n",
    "#         :type rootdir: str\n",
    "#         :type name_filter: str (or None)\n",
    "#         :type rename_labels: boolean\n",
    "#     \"\"\"\n",
    "#     _, models_list, _ = next(os.walk(rootdir))\n",
    "#     print(models_list)\n",
    "#     for dir_name in models_list.copy():\n",
    "#         if \"ignore\" in dir_name:\n",
    "#             models_list.remove(dir_name)\n",
    "#         if name_filter is not None and name_filter not in dir_name:\n",
    "#             models_list.remove(dir_name)\n",
    "#\n",
    "#     for i,m_name in enumerate(models_list):\n",
    "#         print(\"extracting data for {}...\".format(m_name))\n",
    "#         m_id = m_name\n",
    "#         models_saves[m_id] = OrderedDict()\n",
    "#         models_saves[m_id]['data'] = get_run_logs(rootdir+m_name, book_keeping_keys=['env_test_rewards'], min_len=0)\n",
    "#         print(\"done\")\n",
    "#         if m_name not in labels:\n",
    "#             if not rename_labels:\n",
    "#                 labels[m_name] = m_name\n",
    "#             else:\n",
    "#                 ##### MODIFY THIS IF YOU ADD A NEW METHOD #####\n",
    "#                 if 'ADR' in m_name:\n",
    "#                     labels[m_name] = 'ADR'\n",
    "#                 elif 'ALP-GMM' in m_name:\n",
    "#                     labels[m_name] = 'ALP-GMM'\n",
    "#                 elif 'Random' in m_name:\n",
    "#                     labels[m_name] = 'Random'\n",
    "#                 elif 'Covar-GMM' in m_name:\n",
    "#                     labels[m_name] = 'Covar-GMM'\n",
    "#                 elif 'RIAC' in m_name:\n",
    "#                     labels[m_name] = 'RIAC'\n",
    "#                 elif 'GoalGAN' in m_name:\n",
    "#                     labels[m_name] = 'GoalGAN'\n",
    "#                 elif 'Self-Paced' in m_name:\n",
    "#                     labels[m_name] = 'Self-Paced'\n",
    "#                 elif 'Setter-Solver' in m_name:\n",
    "#                     labels[m_name] = 'Setter-Solver'\n",
    "#                 elif 'UPPER_BASELINE' in m_name:\n",
    "#                     labels[m_name] = 'UPPER_BASELINE'\n",
    "#                 else:\n",
    "#                     labels[m_name] = m_name\n",
    "#                 ##### MODIFY THIS IF YOU ADD A NEW METHOD #####\n",
    "# labels = OrderedDict()\n",
    "# models_saves = OrderedDict()\n",
    "#\n",
    "# ##### MODIFY THIS TO POINT TO YOUR DATA FOLDER #####\n",
    "# data_folder = \"../TeachMyAgent/data/BENCHMARK/\"\n",
    "# ##### MODIFY THIS TO POINT TO YOUR DATA FOLDER #####\n",
    "#\n",
    "# get_datasets(data_folder, rename_labels=True)\n",
    "# # get_datasets(data_folder, rename_labels=True, name_filter=\"parkour_RIAC_walker_type_fish\") # You can also add filters"
   ]
  },
  {
   "cell_type": "code",
   "execution_count": 75,
   "outputs": [],
   "source": [
    "# write labels and models_saves to file\n",
    "# import pickle\n",
    "# with open('labels.pkl', 'wb') as f:\n",
    "#     pickle.dump(labels, f)\n",
    "# with open('models_saves.pkl', 'wb') as f:\n",
    "#     pickle.dump(models_saves, f)\n",
    "data_folder = \"../TeachMyAgent/data/BENCHMARK/\"\n",
    "data_new = \"C:/Users/Vartika/Documents/GitHub/TeachMyAgent/notebooks/\"\n",
    "# read labels and models_saves from file\n",
    "import pickle\n",
    "with open(data_new + 'labels.pkl', 'rb') as f:\n",
    "    labels = pickle.load(f)\n",
    "with open(data_new + 'models_saves.pkl', 'rb') as f:\n",
    "    models_saves = pickle.load(f)"
   ],
   "metadata": {
    "collapsed": false
   }
  },
  {
   "cell_type": "markdown",
   "metadata": {},
   "source": [
    "## Compute mastered tasks percentage"
   ]
  },
  {
   "cell_type": "markdown",
   "metadata": {},
   "source": [
    "Compute \"% of Mastered tasks\" metric: percentage of test tasks (over a test set of 100 tasks) on which the agent obtained an episodic reward greater than a threshold (230)."
   ]
  },
  {
   "cell_type": "code",
   "execution_count": 76,
   "metadata": {
    "scrolled": true
   },
   "outputs": [],
   "source": [
    "mastered_thr = 230\n",
    "for i,(m_id,label) in enumerate(labels.items()):\n",
    "    # print(m_id)\n",
    "    runs_data = models_saves[m_id]['data']\n",
    "    #collect raw perfs\n",
    "    # print(\"Seeds : \" + str(len(runs_data)))\n",
    "    for r,run in enumerate(runs_data):\n",
    "        models_saves[m_id]['data'][r]['nb_mastered'] = []\n",
    "        models_saves[m_id]['data'][r]['avg_pos_rewards'] = []\n",
    "        models_saves[m_id]['data'][r]['local_rewards'] = []\n",
    "        if 'env_test_rewards' in run:\n",
    "            size_test_set = int(len(run['env_test_rewards'])/len(run['evaluation return']))\n",
    "            for j in range(len(run['evaluation return'])):#max_epoch):\n",
    "                test_data = np.array(run['env_test_rewards'][j*size_test_set:(j+1)*(size_test_set)])\n",
    "                nb_mastered = len(np.where(test_data > mastered_thr)[0])\n",
    "                models_saves[m_id]['data'][r]['nb_mastered'].append((nb_mastered/size_test_set)*100)\n",
    "        else:\n",
    "            print(\"Skipping seed {}\".format(r))"
   ]
  },
  {
   "cell_type": "markdown",
   "metadata": {},
   "source": [
    "## Compute best seeds"
   ]
  },
  {
   "cell_type": "markdown",
   "metadata": {},
   "source": [
    "Get best seed of each experiment. This is then used to analyze test set performances and show curricula."
   ]
  },
  {
   "cell_type": "code",
   "execution_count": 77,
   "metadata": {},
   "outputs": [],
   "source": [
    "def get_best_seed(expe_name, metric=\"evaluation return\"):\n",
    "    \"\"\"\n",
    "        Calculate best seed of an experiment.\n",
    " \n",
    "        :param expe_name: Experiment's name\n",
    "        :param metric: Metric to use to calculate best seed\n",
    "        :type expe_name: str\n",
    "        :type metric: str\n",
    "        :return best seed, its metric value, mean of all seeds, std over seeds\n",
    "    \"\"\"\n",
    "    best_seed = -1\n",
    "    best_seed_value = -1000\n",
    "    runs_data = models_saves[expe_name]['data']\n",
    "    all_values = []\n",
    "    for run in runs_data:\n",
    "        if len(run[metric]) > 0:\n",
    "            data = run[metric][-1]\n",
    "            # print(data,run[metric][-1])\n",
    "            all_values.append(data)\n",
    "            if data > best_seed_value:\n",
    "                best_seed_value = data\n",
    "                best_seed = run[\"config\"][\"seed\"]\n",
    "        else:\n",
    "            print(\"Skipping seed {}: no data\".format(run[\"config\"][\"seed\"]))\n",
    "    return best_seed, best_seed_value, np.mean(all_values), np.std(all_values)"
   ]
  },
  {
   "cell_type": "code",
   "execution_count": 78,
   "metadata": {
    "scrolled": true
   },
   "outputs": [
    {
     "name": "stdout",
     "output_type": "stream",
     "text": [
      "Expe 04-01_benchmark_parkour_RIAC_walker_type_climbing_profile_chimpanzee : 3 (6.0) - Mean: 0.375 (1.4523687548277813)\n",
      "Expe 04-01_benchmark_parkour_RIAC_walker_type_fish : 3 (83.0) - Mean: 37.375 (25.433430264122848)\n",
      "Expe 04-01_benchmark_parkour_RIAC_walker_type_old_classic_bipedal : 3 (47.0) - Mean: 31.1875 (8.27057094462045)\n",
      "Expe 06-01_profiling_benchmark_stumps_GoalGAN_criteria_4_allow_expert_knowledge_maximal : 11 (63.0) - Mean: 41.21875 (12.623723635976035)\n",
      "Expe 06-01_profiling_benchmark_stumps_GoalGAN_criteria_4_allow_expert_knowledge_minimal : 1 (60.0) - Mean: 34.65625 (19.06175715765732)\n",
      "Expe 07-12_benchmark_parkour_ALP-GMM_walker_type_climbing_profile_chimpanzee : 26 (5.0) - Mean: 0.4375 (1.2231491119238078)\n",
      "Expe 07-12_benchmark_parkour_ALP-GMM_walker_type_fish : 44 (83.0) - Mean: 36.125 (28.479982004910045)\n",
      "Expe 07-12_benchmark_parkour_ALP-GMM_walker_type_old_classic_bipedal : 12 (57.99999999999999) - Mean: 42.75 (11.25)\n",
      "Expe 07-12_profiling_benchmark_stumps_ALP-GMM_criteria_1_allow_expert_knowledge_maximal : 8 (65.0) - Mean: 48.4375 (11.194132112406034)\n",
      "Expe 07-12_profiling_benchmark_stumps_ALP-GMM_criteria_1_allow_expert_knowledge_minimal : 12 (59.0) - Mean: 43.53125 (13.002366070738818)\n",
      "Expe 07-12_profiling_benchmark_stumps_ALP-GMM_criteria_1_allow_expert_knowledge_no : 9 (59.0) - Mean: 42.78125 (6.560937313943794)\n",
      "Expe 07-12_profiling_benchmark_stumps_ALP-GMM_criteria_2_allow_expert_knowledge_maximal : 7 (67.0) - Mean: 44.3125 (14.20263509881177)\n",
      "Expe 07-12_profiling_benchmark_stumps_ALP-GMM_criteria_2_allow_expert_knowledge_minimal : 19 (56.99999999999999) - Mean: 43.03125 (9.019022864895065)\n",
      "Expe 07-12_profiling_benchmark_stumps_ALP-GMM_criteria_2_allow_expert_knowledge_no : 30 (54.0) - Mean: 43.75 (5.979130371550699)\n",
      "Expe 07-12_profiling_benchmark_stumps_ALP-GMM_criteria_5_walker_type_small_bipedal_allow_expert_knowledge_maximal_student_sac_v0.1.1 : 14 (34.0) - Mean: 28.03125 (4.2018178729568945)\n",
      "Expe 07-12_profiling_benchmark_stumps_ALP-GMM_criteria_5_walker_type_small_bipedal_allow_expert_knowledge_minimal_student_sac_v0.1.1 : 25 (38.0) - Mean: 28.125 (6.208612969093822)\n",
      "Expe 07-12_profiling_benchmark_stumps_ALP-GMM_criteria_5_walker_type_small_bipedal_allow_expert_knowledge_no_student_sac_v0.1.1 : 5 (36.0) - Mean: 28.09375 (6.625515899724338)\n",
      "Expe 07-12_profiling_benchmark_stumps_ALP-GMM_criteria_5_walker_type_spider_allow_expert_knowledge_maximal_student_sac_v0.1.1 : 20 (45.0) - Mean: 29.21875 (8.56130237974924)\n",
      "Expe 07-12_profiling_benchmark_stumps_ALP-GMM_criteria_5_walker_type_spider_allow_expert_knowledge_minimal_student_sac_v0.1.1 : 18 (48.0) - Mean: 32.1875 (10.486412339308425)\n",
      "Expe 07-12_profiling_benchmark_stumps_ALP-GMM_criteria_5_walker_type_spider_allow_expert_knowledge_no_student_sac_v0.1.1 : 18 (51.0) - Mean: 32.28125 (10.782608610048868)\n",
      "Expe 09-12_benchmark_parkour_ADR_walker_type_climbing_profile_chimpanzee : 16 (0.0) - Mean: 0.0 (0.0)\n",
      "Expe 09-12_benchmark_parkour_ADR_walker_type_fish : 32 (85.0) - Mean: 5.3125 (20.575224026726904)\n",
      "Expe 09-12_benchmark_parkour_ADR_walker_type_old_classic_bipedal : 15 (54.0) - Mean: 14.6875 (19.41236316757957)\n",
      "Expe 09-12_profiling_benchmark_stumps_ADR_criteria_1_allow_expert_knowledge_maximal : 16 (64.0) - Mean: 45.3125 (6.658816993280413)\n",
      "Expe 09-12_profiling_benchmark_stumps_ADR_criteria_1_allow_expert_knowledge_minimal : 12 (56.99999999999999) - Mean: 7.78125 (17.86710380664701)\n",
      "Expe 09-12_profiling_benchmark_stumps_ADR_criteria_2_allow_expert_knowledge_maximal : 19 (44.0) - Mean: 32.46875 (6.244919810333837)\n",
      "Expe 09-12_profiling_benchmark_stumps_ADR_criteria_2_allow_expert_knowledge_minimal : 11 (44.0) - Mean: 22.25 (15.16369018412075)\n",
      "Expe 09-12_profiling_benchmark_stumps_ADR_criteria_3_allow_expert_knowledge_maximal : 28 (54.0) - Mean: 39.78125 (10.784057605442397)\n",
      "Expe 09-12_profiling_benchmark_stumps_ADR_criteria_3_allow_expert_knowledge_minimal : 0 (50.0) - Mean: 21.21875 (21.217231168027084)\n",
      "Expe 09-12_profiling_benchmark_stumps_ADR_criteria_5_walker_type_small_bipedal_allow_expert_knowledge_maximal_student_sac_v0.1.1 : 16 (33.0) - Mean: 27.53125 (2.9894018527959734)\n",
      "Expe 09-12_profiling_benchmark_stumps_ADR_criteria_5_walker_type_small_bipedal_allow_expert_knowledge_minimal_student_sac_v0.1.1 : 7 (34.0) - Mean: 8.6875 (13.089684631418741)\n",
      "Expe 09-12_profiling_benchmark_stumps_ADR_criteria_5_walker_type_spider_allow_expert_knowledge_maximal_student_sac_v0.1.1 : 1 (46.0) - Mean: 36.96875 (5.4970695318051055)\n",
      "Expe 09-12_profiling_benchmark_stumps_ADR_criteria_5_walker_type_spider_allow_expert_knowledge_minimal_student_sac_v0.1.1 : 22 (53.0) - Mean: 20.03125 (21.593523877253105)\n",
      "Expe 09-12_profiling_benchmark_stumps_ALP-GMM_criteria_3_allow_expert_knowledge_maximal : 31 (55.00000000000001) - Mean: 43.0 (9.041570660012562)\n",
      "Expe 09-12_profiling_benchmark_stumps_ALP-GMM_criteria_3_allow_expert_knowledge_minimal : 27 (54.0) - Mean: 41.59375 (12.5221288500598)\n",
      "Expe 09-12_profiling_benchmark_stumps_ALP-GMM_criteria_3_allow_expert_knowledge_no : 20 (52.0) - Mean: 42.0625 (6.923409113290937)\n",
      "Expe 10-12_profiling_benchmark_stumps_Random_criteria_1_allow_expert_knowledge_no : 10 (36.0) - Mean: 17.96875 (10.545983758640064)\n",
      "Expe 10-12_profiling_benchmark_stumps_Random_criteria_2_allow_expert_knowledge_no : 18 (33.0) - Mean: 17.96875 (7.073208143233168)\n",
      "Expe 10-12_profiling_benchmark_stumps_Random_criteria_3_allow_expert_knowledge_no : 29 (46.0) - Mean: 27.84375 (14.609734287025894)\n",
      "Expe 10-12_profiling_benchmark_stumps_Random_criteria_4_allow_expert_knowledge_no : 20 (43.0) - Mean: 30.34375 (7.695816131996658)\n",
      "Expe 10-12_profiling_benchmark_stumps_Random_criteria_5_walker_type_small_bipedal_allow_expert_knowledge_no_student_sac_v0.1.1 : 0 (26.0) - Mean: 13.65625 (8.331451610463809)\n",
      "Expe 10-12_profiling_benchmark_stumps_Random_criteria_5_walker_type_spider_allow_expert_knowledge_no_student_sac_v0.1.1 : 3 (34.0) - Mean: 26.03125 (6.151648026139012)\n",
      "Expe 11-12_profiling_benchmark_stumps_ADR_criteria_5_walker_type_small_bipedal_allow_expert_knowledge_maximal_student_ppo : 11 (28.000000000000004) - Mean: 20.5625 (3.1418296818892015)\n",
      "Expe 11-12_profiling_benchmark_stumps_ADR_criteria_5_walker_type_small_bipedal_allow_expert_knowledge_minimal_student_ppo : 26 (32.0) - Mean: 9.125 (11.38186605965823)\n",
      "Expe 11-12_profiling_benchmark_stumps_ADR_criteria_5_walker_type_spider_allow_expert_knowledge_maximal_student_ppo : 13 (49.0) - Mean: 44.125 (2.2741756748325317)\n",
      "Expe 11-12_profiling_benchmark_stumps_ADR_criteria_5_walker_type_spider_allow_expert_knowledge_minimal_student_ppo : 9 (50.0) - Mean: 24.40625 (22.34650332686302)\n",
      "Expe 11-12_profiling_benchmark_stumps_ALP-GMM_criteria_5_walker_type_small_bipedal_allow_expert_knowledge_maximal_student_ppo : 27 (27.0) - Mean: 21.3125 (3.0458732327528013)\n",
      "Expe 11-12_profiling_benchmark_stumps_ALP-GMM_criteria_5_walker_type_small_bipedal_allow_expert_knowledge_minimal_student_ppo : 29 (33.0) - Mean: 23.15625 (3.750911347592742)\n",
      "Expe 11-12_profiling_benchmark_stumps_ALP-GMM_criteria_5_walker_type_small_bipedal_allow_expert_knowledge_no_student_ppo : 28 (30.0) - Mean: 24.3125 (3.4499773549981456)\n",
      "Expe 11-12_profiling_benchmark_stumps_ALP-GMM_criteria_5_walker_type_spider_allow_expert_knowledge_maximal_student_ppo : 27 (47.0) - Mean: 40.71875 (3.8989932594837864)\n",
      "Expe 11-12_profiling_benchmark_stumps_ALP-GMM_criteria_5_walker_type_spider_allow_expert_knowledge_minimal_student_ppo : 27 (47.0) - Mean: 41.65625 (3.0578727798095198)\n",
      "Expe 11-12_profiling_benchmark_stumps_ALP-GMM_criteria_5_walker_type_spider_allow_expert_knowledge_no_student_ppo : 3 (48.0) - Mean: 41.3125 (2.8661548719495253)\n",
      "Expe 11-12_profiling_benchmark_stumps_Random_criteria_5_walker_type_small_bipedal_allow_expert_knowledge_no_student_ppo : 29 (23.0) - Mean: 12.8125 (4.36203435910356)\n",
      "Expe 11-12_profiling_benchmark_stumps_Random_criteria_5_walker_type_spider_allow_expert_knowledge_no_student_ppo : 15 (43.0) - Mean: 36.8125 (4.018997853943194)\n",
      "Expe 11-12_profiling_benchmark_stumps_Self-Paced_criteria_1_allow_expert_knowledge_maximal : 2 (48.0) - Mean: 19.125 (12.509371487009249)\n",
      "Expe 11-12_profiling_benchmark_stumps_Self-Paced_criteria_1_allow_expert_knowledge_minimal : 1 (32.0) - Mean: 6.71875 (10.189560757829554)\n",
      "Expe 11-12_profiling_benchmark_stumps_Self-Paced_criteria_1_allow_expert_knowledge_no : 5 (38.0) - Mean: 6.375 (10.206462413588755)\n",
      "Expe 11-12_profiling_benchmark_stumps_Self-Paced_criteria_2_allow_expert_knowledge_maximal : 24 (34.0) - Mean: 22.875 (6.899954709996291)\n",
      "Expe 11-12_profiling_benchmark_stumps_Self-Paced_criteria_2_allow_expert_knowledge_minimal : 28 (43.0) - Mean: 17.875 (12.15974403513495)\n",
      "Expe 11-12_profiling_benchmark_stumps_Self-Paced_criteria_2_allow_expert_knowledge_no : 12 (38.0) - Mean: 15.34375 (9.88246355609268)\n",
      "Expe 11-12_profiling_benchmark_stumps_Self-Paced_criteria_3_allow_expert_knowledge_maximal : 3 (47.0) - Mean: 12.9375 (11.252603865328238)\n",
      "Expe 11-12_profiling_benchmark_stumps_Self-Paced_criteria_3_allow_expert_knowledge_minimal : 17 (40.0) - Mean: 10.625 (12.221267323808934)\n",
      "Expe 11-12_profiling_benchmark_stumps_Self-Paced_criteria_3_allow_expert_knowledge_no : 31 (40.0) - Mean: 10.40625 (12.893456128497897)\n",
      "Expe 11-12_profiling_benchmark_stumps_Self-Paced_criteria_5_walker_type_small_bipedal_allow_expert_knowledge_maximal_student_ppo : 23 (31.0) - Mean: 12.59375 (9.154436680511806)\n",
      "Expe 11-12_profiling_benchmark_stumps_Self-Paced_criteria_5_walker_type_small_bipedal_allow_expert_knowledge_maximal_student_sac_v0.1.1 : 21 (22.0) - Mean: 6.65625 (7.0071810264542185)\n",
      "Expe 11-12_profiling_benchmark_stumps_Self-Paced_criteria_5_walker_type_small_bipedal_allow_expert_knowledge_minimal_student_ppo : 9 (25.0) - Mean: 4.590503246753247 (7.004134010752972)\n",
      "Expe 11-12_profiling_benchmark_stumps_Self-Paced_criteria_5_walker_type_small_bipedal_allow_expert_knowledge_minimal_student_sac_v0.1.1 : 31 (23.0) - Mean: 3.90625 (7.10791537213971)\n",
      "Expe 11-12_profiling_benchmark_stumps_Self-Paced_criteria_5_walker_type_small_bipedal_allow_expert_knowledge_no_student_ppo : 11 (33.0) - Mean: 7.53125 (9.466996537313193)\n",
      "Expe 11-12_profiling_benchmark_stumps_Self-Paced_criteria_5_walker_type_small_bipedal_allow_expert_knowledge_no_student_sac_v0.1.1 : 9 (10.0) - Mean: 1.0 (2.7271780286589284)\n",
      "Expe 11-12_profiling_benchmark_stumps_Self-Paced_criteria_5_walker_type_spider_allow_expert_knowledge_maximal_student_ppo : 23 (46.0) - Mean: 33.625 (14.95984207804347)\n",
      "Expe 11-12_profiling_benchmark_stumps_Self-Paced_criteria_5_walker_type_spider_allow_expert_knowledge_maximal_student_sac_v0.1.1 : 31 (30.0) - Mean: 8.78125 (9.81623137652633)\n",
      "Expe 11-12_profiling_benchmark_stumps_Self-Paced_criteria_5_walker_type_spider_allow_expert_knowledge_minimal_student_ppo : 27 (47.0) - Mean: 21.1875 (20.26147437256233)\n",
      "Expe 11-12_profiling_benchmark_stumps_Self-Paced_criteria_5_walker_type_spider_allow_expert_knowledge_minimal_student_sac_v0.1.1 : 17 (26.0) - Mean: 7.0 (10.015612812005065)\n",
      "Expe 11-12_profiling_benchmark_stumps_Self-Paced_criteria_5_walker_type_spider_allow_expert_knowledge_no_student_ppo : 2 (47.0) - Mean: 22.0 (19.917015338649513)\n",
      "Expe 11-12_profiling_benchmark_stumps_Self-Paced_criteria_5_walker_type_spider_allow_expert_knowledge_no_student_sac_v0.1.1 : 16 (31.0) - Mean: 5.03125 (9.046699588109467)\n",
      "Expe 14-12_benchmark_parkour_Setter-Solver_walker_type_climbing_profile_chimpanzee : 0 (0.0) - Mean: 0.0 (0.0)\n",
      "Expe 14-12_benchmark_parkour_Setter-Solver_walker_type_fish : 0 (26.0) - Mean: 5.0625 (7.668676140638618)\n",
      "Expe 14-12_benchmark_parkour_Setter-Solver_walker_type_old_classic_bipedal : 10 (63.0) - Mean: 28.75 (20.777090749188154)\n",
      "Expe 14-12_profiling_benchmark_stumps_GoalGAN_criteria_1_allow_expert_knowledge_maximal : 14 (57.99999999999999) - Mean: 39.71875 (10.056820990626212)\n",
      "Expe 14-12_profiling_benchmark_stumps_GoalGAN_criteria_1_allow_expert_knowledge_minimal : 31 (43.0) - Mean: 12.65625 (16.627555019830787)\n",
      "Expe 14-12_profiling_benchmark_stumps_GoalGAN_criteria_2_allow_expert_knowledge_maximal : 18 (67.0) - Mean: 45.59375 (13.552811919948569)\n",
      "Expe 14-12_profiling_benchmark_stumps_GoalGAN_criteria_2_allow_expert_knowledge_minimal : 17 (57.99999999999999) - Mean: 38.375 (16.092991486979667)\n",
      "Expe 14-12_profiling_benchmark_stumps_GoalGAN_criteria_3_allow_expert_knowledge_maximal : 23 (51.0) - Mean: 23.40625 (19.724444502634288)\n",
      "Expe 14-12_profiling_benchmark_stumps_GoalGAN_criteria_3_allow_expert_knowledge_minimal : 1 (46.0) - Mean: 9.3125 (15.780600234148256)\n",
      "Expe 14-12_profiling_benchmark_stumps_GoalGAN_criteria_5_walker_type_small_bipedal_allow_expert_knowledge_maximal_student_ppo : 8 (20.0) - Mean: 14.84375 (3.465088157247951)\n",
      "Expe 14-12_profiling_benchmark_stumps_GoalGAN_criteria_5_walker_type_small_bipedal_allow_expert_knowledge_maximal_student_sac_v0.1.1 : 5 (38.0) - Mean: 29.28125 (3.785121984494027)\n",
      "Expe 14-12_profiling_benchmark_stumps_GoalGAN_criteria_5_walker_type_small_bipedal_allow_expert_knowledge_minimal_student_ppo : 17 (34.0) - Mean: 9.3125 (11.159182037676418)\n",
      "Expe 14-12_profiling_benchmark_stumps_GoalGAN_criteria_5_walker_type_small_bipedal_allow_expert_knowledge_minimal_student_sac_v0.1.1 : 22 (32.0) - Mean: 12.71875 (13.793645219357355)\n",
      "Expe 14-12_profiling_benchmark_stumps_GoalGAN_criteria_5_walker_type_spider_allow_expert_knowledge_maximal_student_ppo : 23 (40.0) - Mean: 33.65625 (2.868028231642778)\n",
      "Expe 14-12_profiling_benchmark_stumps_GoalGAN_criteria_5_walker_type_spider_allow_expert_knowledge_maximal_student_sac_v0.1.1 : 27 (47.0) - Mean: 32.21875 (9.603822074439947)\n",
      "Expe 14-12_profiling_benchmark_stumps_GoalGAN_criteria_5_walker_type_spider_allow_expert_knowledge_minimal_student_ppo : 17 (49.0) - Mean: 26.0625 (20.06230529500536)\n",
      "Expe 14-12_profiling_benchmark_stumps_GoalGAN_criteria_5_walker_type_spider_allow_expert_knowledge_minimal_student_sac_v0.1.1 : 22 (50.0) - Mean: 16.875 (18.62751660850152)\n",
      "Expe 14-12_profiling_benchmark_stumps_Setter-Solver_criteria_1_allow_expert_knowledge_maximal : 1 (43.0) - Mean: 28.21875 (9.681601026560639)\n",
      "Expe 14-12_profiling_benchmark_stumps_Setter-Solver_criteria_1_allow_expert_knowledge_minimal : 21 (40.0) - Mean: 25.3125 (10.684210019931282)\n",
      "Expe 14-12_profiling_benchmark_stumps_Setter-Solver_criteria_2_allow_expert_knowledge_maximal : 2 (54.0) - Mean: 33.6875 (10.812138722288019)\n",
      "Expe 14-12_profiling_benchmark_stumps_Setter-Solver_criteria_2_allow_expert_knowledge_minimal : 5 (51.0) - Mean: 35.53125 (8.859967462553122)\n",
      "Expe 14-12_profiling_benchmark_stumps_Setter-Solver_criteria_3_allow_expert_knowledge_maximal : 17 (49.0) - Mean: 37.4375 (8.713988395103588)\n",
      "Expe 14-12_profiling_benchmark_stumps_Setter-Solver_criteria_3_allow_expert_knowledge_minimal : 16 (48.0) - Mean: 33.90625 (12.553284866420423)\n",
      "Expe 14-12_profiling_benchmark_stumps_Setter-Solver_criteria_5_walker_type_small_bipedal_allow_expert_knowledge_maximal_student_ppo : 3 (21.0) - Mean: 14.5625 (3.2204182569970627)\n",
      "Expe 14-12_profiling_benchmark_stumps_Setter-Solver_criteria_5_walker_type_small_bipedal_allow_expert_knowledge_maximal_student_sac_v0.1.1 : 8 (28.000000000000004) - Mean: 18.59375 (6.594786648368543)\n",
      "Expe 14-12_profiling_benchmark_stumps_Setter-Solver_criteria_5_walker_type_small_bipedal_allow_expert_knowledge_minimal_student_ppo : 1 (22.0) - Mean: 15.78125 (2.4715174362120123)\n",
      "Expe 14-12_profiling_benchmark_stumps_Setter-Solver_criteria_5_walker_type_small_bipedal_allow_expert_knowledge_minimal_student_sac_v0.1.1 : 22 (26.0) - Mean: 20.3125 (4.126420210061016)\n",
      "Expe 14-12_profiling_benchmark_stumps_Setter-Solver_criteria_5_walker_type_spider_allow_expert_knowledge_maximal_student_ppo : 6 (38.0) - Mean: 34.65625 (1.6509348677340363)\n",
      "Expe 14-12_profiling_benchmark_stumps_Setter-Solver_criteria_5_walker_type_spider_allow_expert_knowledge_maximal_student_sac_v0.1.1 : 25 (40.0) - Mean: 28.34375 (8.988219286237959)\n",
      "Expe 14-12_profiling_benchmark_stumps_Setter-Solver_criteria_5_walker_type_spider_allow_expert_knowledge_minimal_student_ppo : 28 (39.0) - Mean: 34.875 (2.836701429477554)\n",
      "Expe 14-12_profiling_benchmark_stumps_Setter-Solver_criteria_5_walker_type_spider_allow_expert_knowledge_minimal_student_sac_v0.1.1 : 14 (45.0) - Mean: 30.6875 (7.380030064301907)\n",
      "Expe 16-12_benchmark_parkour_GoalGAN_walker_type_climbing_profile_chimpanzee : 11 (11.0) - Mean: 0.8125 (2.650913757556062)\n",
      "Expe 16-12_benchmark_parkour_GoalGAN_walker_type_fish : 0 (91.0) - Mean: 34.6875 (37.040043787096145)\n",
      "Expe 16-12_benchmark_parkour_GoalGAN_walker_type_old_classic_bipedal : 1 (65.0) - Mean: 25.375 (24.72821010506017)\n",
      "Expe 16-12_benchmark_parkour_Random_walker_type_climbing_profile_chimpanzee : 16 (0.0) - Mean: 0.0 (0.0)\n",
      "Expe 16-12_benchmark_parkour_Random_walker_type_fish : 35 (65.0) - Mean: 23.5625 (21.313049846279625)\n",
      "Expe 16-12_benchmark_parkour_Random_walker_type_old_classic_bipedal : 5 (45.0) - Mean: 27.25 (10.668294146675935)\n",
      "Expe 16-12_benchmark_parkour_Self-Paced_walker_type_climbing_profile_chimpanzee : 1 (14.000000000000002) - Mean: 1.0 (3.3911649915626345)\n",
      "Expe 16-12_benchmark_parkour_Self-Paced_walker_type_fish : 13 (85.0) - Mean: 9.0 (24.25128862555555)\n",
      "Expe 16-12_benchmark_parkour_Self-Paced_walker_type_old_classic_bipedal : 2 (67.0) - Mean: 30.5625 (22.844498106765226)\n",
      "Expe 16-12_profiling_benchmark_stumps_RIAC_criteria_1_allow_expert_knowledge_maximal : 18 (39.0) - Mean: 25.15625 (12.275762132653924)\n",
      "Expe 16-12_profiling_benchmark_stumps_RIAC_criteria_1_allow_expert_knowledge_minimal : 31 (39.0) - Mean: 20.46875 (13.984331354680494)\n",
      "Expe 16-12_profiling_benchmark_stumps_RIAC_criteria_2_allow_expert_knowledge_maximal : 2 (52.0) - Mean: 27.125 (11.058791751362353)\n",
      "Expe 16-12_profiling_benchmark_stumps_RIAC_criteria_3_allow_expert_knowledge_maximal : 11 (49.0) - Mean: 37.75 (9.394147114027968)\n",
      "Expe 16-12_profiling_benchmark_stumps_RIAC_criteria_3_allow_expert_knowledge_minimal : 21 (47.0) - Mean: 34.28125 (12.483074478568971)\n",
      "Expe 16-12_profiling_benchmark_stumps_RIAC_criteria_3_allow_expert_knowledge_no : 24 (48.0) - Mean: 36.0 (12.847665157529597)\n",
      "Expe 16-12_profiling_benchmark_stumps_RIAC_criteria_5_walker_type_small_bipedal_allow_expert_knowledge_maximal_student_ppo : 23 (22.0) - Mean: 15.21875 (3.6463541294695996)\n",
      "Expe 16-12_profiling_benchmark_stumps_RIAC_criteria_5_walker_type_small_bipedal_allow_expert_knowledge_maximal_student_sac_v0.1.1 : 12 (28.000000000000004) - Mean: 18.59375 (7.026109231822403)\n",
      "Expe 16-12_profiling_benchmark_stumps_RIAC_criteria_5_walker_type_small_bipedal_allow_expert_knowledge_minimal_student_ppo : 26 (23.0) - Mean: 13.71875 (4.711915580472553)\n",
      "Expe 16-12_profiling_benchmark_stumps_RIAC_criteria_5_walker_type_small_bipedal_allow_expert_knowledge_minimal_student_sac_v0.1.1 : 29 (28.000000000000004) - Mean: 19.3125 (5.4683035532055095)\n",
      "Expe 16-12_profiling_benchmark_stumps_RIAC_criteria_5_walker_type_small_bipedal_allow_expert_knowledge_no_student_ppo : 4 (22.0) - Mean: 14.5 (4.25)\n",
      "Expe 16-12_profiling_benchmark_stumps_RIAC_criteria_5_walker_type_small_bipedal_allow_expert_knowledge_no_student_sac_v0.1.1 : 10 (25.0) - Mean: 18.0625 (5.695049933933855)\n",
      "Expe 16-12_profiling_benchmark_stumps_RIAC_criteria_5_walker_type_spider_allow_expert_knowledge_maximal_student_ppo : 15 (46.0) - Mean: 39.96875 (2.7327227150774007)\n",
      "Expe 16-12_profiling_benchmark_stumps_RIAC_criteria_5_walker_type_spider_allow_expert_knowledge_minimal_student_ppo : 15 (47.0) - Mean: 41.0 (3.570714214271425)\n",
      "Expe 16-12_profiling_benchmark_stumps_RIAC_criteria_5_walker_type_spider_allow_expert_knowledge_no_student_ppo : 14 (47.0) - Mean: 40.1875 (3.0355961111452228)\n",
      "Expe 17-12_benchmark_parkour_Covar-GMM_walker_type_climbing_profile_chimpanzee : 14 (8.0) - Mean: 0.5 (1.9364916731037085)\n",
      "Expe 17-12_benchmark_parkour_Covar-GMM_walker_type_fish : 2 (89.0) - Mean: 29.9375 (27.940715698600133)\n",
      "Expe 17-12_benchmark_parkour_Covar-GMM_walker_type_old_classic_bipedal : 7 (52.0) - Mean: 35.75 (15.915794042397005)\n",
      "Expe 17-12_profiling_benchmark_stumps_Covar-GMM_criteria_1_allow_expert_knowledge_maximal : 14 (56.99999999999999) - Mean: 38.15625 (11.890409410003508)\n",
      "Expe 17-12_profiling_benchmark_stumps_Covar-GMM_criteria_1_allow_expert_knowledge_minimal : 12 (56.00000000000001) - Mean: 31.25 (16.787271964199544)\n",
      "Expe 17-12_profiling_benchmark_stumps_Covar-GMM_criteria_1_allow_expert_knowledge_no : 5 (55.00000000000001) - Mean: 39.0 (9.943590900675671)\n",
      "Expe 17-12_profiling_benchmark_stumps_Covar-GMM_criteria_2_allow_expert_knowledge_maximal : 22 (54.0) - Mean: 39.59375 (10.301272297027198)\n",
      "Expe 17-12_profiling_benchmark_stumps_Covar-GMM_criteria_2_allow_expert_knowledge_minimal : 26 (65.0) - Mean: 42.03125 (8.383333074469842)\n",
      "Expe 17-12_profiling_benchmark_stumps_Covar-GMM_criteria_2_allow_expert_knowledge_no : 3 (53.0) - Mean: 32.71875 (16.025827542985105)\n",
      "Expe 17-12_profiling_benchmark_stumps_Covar-GMM_criteria_3_allow_expert_knowledge_maximal : 11 (53.0) - Mean: 39.46875 (12.554840637678362)\n",
      "Expe 17-12_profiling_benchmark_stumps_Covar-GMM_criteria_3_allow_expert_knowledge_minimal : 8 (56.00000000000001) - Mean: 31.53125 (18.379649709325257)\n",
      "Expe 17-12_profiling_benchmark_stumps_Covar-GMM_criteria_3_allow_expert_knowledge_no : 12 (49.0) - Mean: 31.28125 (16.223506046397617)\n",
      "Expe 17-12_profiling_benchmark_stumps_Covar-GMM_criteria_5_walker_type_small_bipedal_allow_expert_knowledge_maximal_student_ppo : 30 (37.0) - Mean: 27.40625 (4.292867449328013)\n",
      "Expe 17-12_profiling_benchmark_stumps_Covar-GMM_criteria_5_walker_type_small_bipedal_allow_expert_knowledge_maximal_student_sac_v0.1.1 : 6 (33.0) - Mean: 25.0625 (6.618806066806913)\n",
      "Expe 17-12_profiling_benchmark_stumps_Covar-GMM_criteria_5_walker_type_small_bipedal_allow_expert_knowledge_minimal_student_ppo : 21 (35.0) - Mean: 26.71875 (3.7933690088758834)\n",
      "Expe 17-12_profiling_benchmark_stumps_Covar-GMM_criteria_5_walker_type_small_bipedal_allow_expert_knowledge_minimal_student_sac_v0.1.1 : 6 (35.0) - Mean: 24.4375 (5.716956686034974)\n",
      "Expe 17-12_profiling_benchmark_stumps_Covar-GMM_criteria_5_walker_type_small_bipedal_allow_expert_knowledge_no_student_ppo : 30 (35.0) - Mean: 27.4375 (4.5065057139650895)\n",
      "Expe 17-12_profiling_benchmark_stumps_Covar-GMM_criteria_5_walker_type_small_bipedal_allow_expert_knowledge_no_student_sac_v0.1.1 : 18 (34.0) - Mean: 26.125 (5.290025992374707)\n",
      "Expe 17-12_profiling_benchmark_stumps_Covar-GMM_criteria_5_walker_type_spider_allow_expert_knowledge_maximal_student_ppo : 16 (52.0) - Mean: 46.75 (3.473110997362451)\n",
      "Expe 17-12_profiling_benchmark_stumps_Covar-GMM_criteria_5_walker_type_spider_allow_expert_knowledge_maximal_student_sac_v0.1.1 : 4 (42.0) - Mean: 31.3125 (7.480965429007141)\n",
      "Expe 17-12_profiling_benchmark_stumps_Covar-GMM_criteria_5_walker_type_spider_allow_expert_knowledge_minimal_student_ppo : 12 (52.0) - Mean: 45.34375 (2.995928226359904)\n",
      "Expe 17-12_profiling_benchmark_stumps_Covar-GMM_criteria_5_walker_type_spider_allow_expert_knowledge_minimal_student_sac_v0.1.1 : 7 (44.0) - Mean: 31.8125 (6.848528582841719)\n",
      "Expe 17-12_profiling_benchmark_stumps_Covar-GMM_criteria_5_walker_type_spider_allow_expert_knowledge_no_student_ppo : 17 (52.0) - Mean: 47.125 (3.07967124868873)\n",
      "Expe 17-12_profiling_benchmark_stumps_Covar-GMM_criteria_5_walker_type_spider_allow_expert_knowledge_no_student_sac_v0.1.1 : 5 (41.0) - Mean: 28.8125 (9.70965209211947)\n",
      "Expe 18-12_profiling_benchmark_stumps_ADR_criteria_4_allow_expert_knowledge_maximal : 5 (63.0) - Mean: 17.3125 (20.89174104161738)\n",
      "Expe 18-12_profiling_benchmark_stumps_ADR_criteria_4_allow_expert_knowledge_minimal : 23 (52.0) - Mean: 17.0 (19.570385790780925)\n",
      "Expe 18-12_profiling_benchmark_stumps_ALP-GMM_criteria_4_allow_expert_knowledge_maximal : 6 (55.00000000000001) - Mean: 42.53125 (7.28433411078185)\n",
      "Expe 18-12_profiling_benchmark_stumps_ALP-GMM_criteria_4_allow_expert_knowledge_minimal : 0 (56.00000000000001) - Mean: 44.25 (7.14142842854285)\n",
      "Expe 18-12_profiling_benchmark_stumps_ALP-GMM_criteria_4_allow_expert_knowledge_no : 2 (55.00000000000001) - Mean: 42.53125 (4.815238668799295)\n",
      "Expe 18-12_profiling_benchmark_stumps_Covar-GMM_criteria_4_allow_expert_knowledge_maximal : 2 (52.0) - Mean: 41.28125 (6.974213105254241)\n",
      "Expe 18-12_profiling_benchmark_stumps_Covar-GMM_criteria_4_allow_expert_knowledge_minimal : 6 (48.0) - Mean: 34.3125 (10.695903129235978)\n",
      "Expe 18-12_profiling_benchmark_stumps_Covar-GMM_criteria_4_allow_expert_knowledge_no : 31 (51.0) - Mean: 39.40625 (7.386048397993341)\n",
      "Expe 18-12_profiling_benchmark_stumps_Self-Paced_criteria_4_allow_expert_knowledge_maximal : 12 (52.0) - Mean: 31.0 (11.2527774349269)\n",
      "Expe 18-12_profiling_benchmark_stumps_Self-Paced_criteria_4_allow_expert_knowledge_minimal : 5 (45.0) - Mean: 18.0625 (15.791488015700104)\n",
      "Expe 18-12_profiling_benchmark_stumps_Self-Paced_criteria_4_allow_expert_knowledge_no : 16 (46.0) - Mean: 19.3125 (16.206552494284526)\n",
      "Expe 20-12_profiling_benchmark_stumps_RIAC_criteria_1_allow_expert_knowledge_no : 21 (44.0) - Mean: 22.09375 (14.494307880595748)\n",
      "Expe 20-12_profiling_benchmark_stumps_RIAC_criteria_2_allow_expert_knowledge_minimal : 1 (41.0) - Mean: 21.34375 (8.777134266803715)\n",
      "Expe 20-12_profiling_benchmark_stumps_RIAC_criteria_2_allow_expert_knowledge_no : 10 (49.0) - Mean: 20.0 (10.874281585465774)\n",
      "Expe 20-12_profiling_benchmark_stumps_RIAC_criteria_4_allow_expert_knowledge_maximal : 5 (49.0) - Mean: 37.75 (8.789197915623474)\n",
      "Expe 20-12_profiling_benchmark_stumps_RIAC_criteria_4_allow_expert_knowledge_minimal : 22 (52.0) - Mean: 38.3125 (11.284495724222682)\n",
      "Expe 20-12_profiling_benchmark_stumps_RIAC_criteria_4_allow_expert_knowledge_no : 15 (49.0) - Mean: 36.78125 (6.931514873207732)\n",
      "Expe 20-12_profiling_benchmark_stumps_RIAC_criteria_5_walker_type_spider_allow_expert_knowledge_maximal_student_sac_v0.1.1 : 28 (38.0) - Mean: 29.28125 (9.931749515442887)\n",
      "Expe 20-12_profiling_benchmark_stumps_RIAC_criteria_5_walker_type_spider_allow_expert_knowledge_minimal_student_sac_v0.1.1 : 20 (38.0) - Mean: 29.96875 (6.966367305669434)\n",
      "Expe 20-12_profiling_benchmark_stumps_RIAC_criteria_5_walker_type_spider_allow_expert_knowledge_no_student_sac_v0.1.1 : 23 (38.0) - Mean: 30.84375 (5.78310780960376)\n",
      "Expe 20-12_profiling_benchmark_stumps_Setter-Solver_criteria_4_allow_expert_knowledge_maximal : 1 (50.0) - Mean: 34.71875 (8.140310094676984)\n",
      "Expe 20-12_profiling_benchmark_stumps_Setter-Solver_criteria_4_allow_expert_knowledge_minimal : 3 (44.0) - Mean: 31.5625 (11.338368213724584)\n",
      "Expe UPPER_BASELINE_allow_expert_knowledge_maximal : 8 (64.0) - Mean: 51.9375 (7.275547659798539)\n",
      "Expe UPPER_BASELINE_allow_expert_knowledge_minimal : 9 (66.0) - Mean: 47.09375 (13.897750211365148)\n",
      "Expe UPPER_BASELINE_allow_expert_knowledge_no : 19 (69.0) - Mean: 52.0625 (5.936842068810657)\n"
     ]
    }
   ],
   "source": [
    "best_seeds = {}\n",
    "for i,(m_id,label) in enumerate(labels.items()):\n",
    "    best_seed, best_seed_value, mean, std = get_best_seed(m_id, metric=\"nb_mastered\")\n",
    "    best_seeds[m_id] = best_seed\n",
    "    print(\"Expe {0} : {1} ({2}) - Mean: {3} ({4})\".format(m_id, best_seed, best_seed_value, mean, std))"
   ]
  },
  {
   "cell_type": "markdown",
   "metadata": {},
   "source": [
    "# Plot definitions"
   ]
  },
  {
   "cell_type": "code",
   "execution_count": 79,
   "metadata": {},
   "outputs": [],
   "source": [
    "def dict_to_args_str(dictionary):\n",
    "    args_str = []\n",
    "    for key in dictionary:\n",
    "        args_str.append(\"--{}\".format(key))\n",
    "        if dictionary[key] is not None:\n",
    "            args_str.append(\"{}\".format(dictionary[key]))\n",
    "\n",
    "    return args_str"
   ]
  },
  {
   "cell_type": "code",
   "execution_count": 80,
   "metadata": {},
   "outputs": [],
   "source": [
    "def test_policy_perf(dataset_folder, settings):\n",
    "    \"\"\"\n",
    "        Test best seed of chosen experiments and get the rewards obtained.\n",
    " \n",
    "        :param dataset_folder: Directory containing experiments to load (do not forget '/' at the end of the path)\n",
    "        :param settings: Dictionary defining experiments to load \n",
    "        :return list of rewards\n",
    "    \"\"\"\n",
    "    parser = test_policy.get_parser()\n",
    "    parser.add_argument('--expe_name', type=str)\n",
    "    ep_returns = []\n",
    "    \n",
    "    for setting in settings:\n",
    "        current_expe_best_seed = best_seeds[setting[\"expe_name\"]]\n",
    "        data_path = os.path.join(dataset_folder, setting[\"expe_name\"], setting[\"expe_name\"] + \"_s\" + str(current_expe_best_seed))\n",
    "        setting[\"fpath\"] = data_path\n",
    "        # print(\"data_path\",data_path)\n",
    "        data_path = data_path.replace(\"/\",\"\\\\\")\n",
    "        # print(\"data_path\",data_path)\n",
    "        setting[\"record\"] = False\n",
    "        setting[\"norender\"] = None\n",
    "\n",
    "        args_str = dict_to_args_str(setting)\n",
    "        # print(args_str)\n",
    "\n",
    "        args = parser.parse_args(args_str)\n",
    "        ep_returns.append(test_policy.main(args))\n",
    "    return ep_returns"
   ]
  },
  {
   "cell_type": "code",
   "execution_count": 81,
   "metadata": {},
   "outputs": [],
   "source": [
    "def record_policy(dataset_folder, settings):\n",
    "    \"\"\"\n",
    "        Record the policy associated to the best seed of chosen experiments.\n",
    " \n",
    "        :param dataset_folder: Directory containing experiments to load (do not forget '/' at the end of the path)\n",
    "        :param settings: Dictionary defining experiments to load \n",
    "    \"\"\"\n",
    "    parser = test_policy.get_parser()\n",
    "    parser.add_argument('--expe_name', type=str)\n",
    "    \n",
    "    for setting in settings:\n",
    "        current_expe_best_seed = best_seeds[setting[\"expe_name\"]]\n",
    "        data_path = os.path.join(dataset_folder, setting[\"expe_name\"], setting[\"expe_name\"] + \"_s\" + str(current_expe_best_seed))\n",
    "\n",
    "        setting[\"fpath\"] = data_path\n",
    "        setting[\"record\"] = False\n",
    "        setting[\"recording_path\"] = os.path.join(setting[\"recording_path\"], setting[\"expe_name\"] + \"_s\" + str(current_expe_best_seed))\n",
    "        print(\"done till here \")\n",
    "        args_str = dict_to_args_str(setting)\n",
    "        # print(args_str)\n",
    "        #\n",
    "        args = parser.parse_args(args_str)\n",
    "        test_policy.main(args)"
   ]
  },
  {
   "cell_type": "markdown",
   "metadata": {},
   "source": [
    "# Policies"
   ]
  },
  {
   "cell_type": "markdown",
   "metadata": {},
   "source": [
    "Modify the settings below to load the best seed on one of your experiments."
   ]
  },
  {
   "cell_type": "code",
   "execution_count": 82,
   "metadata": {},
   "outputs": [],
   "source": [
    "# # Testing file which can be used\n",
    "#     # \"env\": \"parametric-continuous-parkour-v0\"\n",
    "#     # \"embodiment\": \"old_classic_bipedal\"\n",
    "#     # \"expe_name\" : \"07-12_benchmark_parkour_ALP-GMM_walker_type_old_classic_bipedal\"\n",
    "#     # \"expe_name\" : \"04-01_benchmark_parkour_RIAC_walker_type_old_classic_bipedal\"\n",
    "#\n",
    "#\n",
    "# record_policy(data_folder, settings=[\n",
    "#     {\n",
    "#         \"env\": \"parametric-continuous-parkour-v0\",\n",
    "#         \"embodiment\": \"old_classic_bipedal\",\n",
    "#         \"bests\": True, # Whether the results on test set should be ordered by performance (best performance first)\n",
    "#         \"lidars_type\": \"down\", # Use 'up' for climbers, 'down' for walkers and 'full' for swimmers\n",
    "#         \"deterministic\": None, # Leave this to None\n",
    "#         \"len\": 2000, # Leave this to 2000\n",
    "#         \"expe_name\" : \"04-01_benchmark_parkour_RIAC_walker_type_old_classic_bipedal\",\n",
    "#         \"episode_ids\": \"0\", # Nth best (or worse if bests=False) tasks to record (-1 means all the episodes). Separate tasks with '/'.\n",
    "#         \"recording_path\": \"\" # Path to save the video\n",
    "#     },\n",
    "# ])"
   ]
  },
  {
   "cell_type": "code",
   "execution_count": 83,
   "outputs": [],
   "source": [
    "# !pip install ffmpeg"
   ],
   "metadata": {
    "collapsed": false
   }
  },
  {
   "cell_type": "code",
   "execution_count": 87,
   "metadata": {},
   "outputs": [
    {
     "ename": "FileNotFoundError",
     "evalue": "[Errno 2] No such file or directory: 'TeachMyAgent/teachers/test_sets/old/stump_height0_3.0obstacle_spacing0_6.0.pkl'",
     "output_type": "error",
     "traceback": [
      "\u001B[1;31m---------------------------------------------------------------------------\u001B[0m",
      "\u001B[1;31mFileNotFoundError\u001B[0m                         Traceback (most recent call last)",
      "\u001B[1;32m<ipython-input-87-255a3d8cb6cc>\u001B[0m in \u001B[0;36m<module>\u001B[1;34m\u001B[0m\n\u001B[0;32m     10\u001B[0m         \u001B[1;34m\"episode_ids\"\u001B[0m\u001B[1;33m:\u001B[0m \u001B[1;34m\"0\"\u001B[0m\u001B[1;33m,\u001B[0m \u001B[1;31m# Nth best (or worse if bests=False) tasks to record (-1 means all the episodes). Separate tasks with '/'.\u001B[0m\u001B[1;33m\u001B[0m\u001B[1;33m\u001B[0m\u001B[0m\n\u001B[0;32m     11\u001B[0m         \u001B[1;34m\"fixed_test_set\"\u001B[0m\u001B[1;33m:\u001B[0m \u001B[1;34m'old/stump_height0_3.0obstacle_spacing0_6.0'\u001B[0m\u001B[1;33m,\u001B[0m \u001B[1;31m# test set to load (remove this if you want to load the test set used during the experiment),\u001B[0m\u001B[1;33m\u001B[0m\u001B[1;33m\u001B[0m\u001B[0m\n\u001B[1;32m---> 12\u001B[1;33m         \u001B[1;34m\"recording_path\"\u001B[0m\u001B[1;33m:\u001B[0m \u001B[1;34m\"\"\u001B[0m \u001B[1;31m# Path to save the video\u001B[0m\u001B[1;33m\u001B[0m\u001B[1;33m\u001B[0m\u001B[0m\n\u001B[0m\u001B[0;32m     13\u001B[0m     },\n\u001B[0;32m     14\u001B[0m ])\n",
      "\u001B[1;32m<ipython-input-80-2a10e7bfed96>\u001B[0m in \u001B[0;36mtest_policy_perf\u001B[1;34m(dataset_folder, settings)\u001B[0m\n\u001B[0;32m     25\u001B[0m \u001B[1;33m\u001B[0m\u001B[0m\n\u001B[0;32m     26\u001B[0m         \u001B[0margs\u001B[0m \u001B[1;33m=\u001B[0m \u001B[0mparser\u001B[0m\u001B[1;33m.\u001B[0m\u001B[0mparse_args\u001B[0m\u001B[1;33m(\u001B[0m\u001B[0margs_str\u001B[0m\u001B[1;33m)\u001B[0m\u001B[1;33m\u001B[0m\u001B[1;33m\u001B[0m\u001B[0m\n\u001B[1;32m---> 27\u001B[1;33m         \u001B[0mep_returns\u001B[0m\u001B[1;33m.\u001B[0m\u001B[0mappend\u001B[0m\u001B[1;33m(\u001B[0m\u001B[0mtest_policy\u001B[0m\u001B[1;33m.\u001B[0m\u001B[0mmain\u001B[0m\u001B[1;33m(\u001B[0m\u001B[0margs\u001B[0m\u001B[1;33m)\u001B[0m\u001B[1;33m)\u001B[0m\u001B[1;33m\u001B[0m\u001B[1;33m\u001B[0m\u001B[0m\n\u001B[0m\u001B[0;32m     28\u001B[0m     \u001B[1;32mreturn\u001B[0m \u001B[0mep_returns\u001B[0m\u001B[1;33m\u001B[0m\u001B[1;33m\u001B[0m\u001B[0m\n",
      "\u001B[1;32m~\\Documents\\GitHub\\TeachMyAgent\\TeachMyAgent\\students\\test_policy.py\u001B[0m in \u001B[0;36mmain\u001B[1;34m(args)\u001B[0m\n\u001B[0;32m    246\u001B[0m         \u001B[1;31m#     else training_config[\"nb_test_episodes\"]\u001B[0m\u001B[1;33m\u001B[0m\u001B[1;33m\u001B[0m\u001B[1;33m\u001B[0m\u001B[0m\n\u001B[0;32m    247\u001B[0m         \u001B[0mtest_set_params\u001B[0m\u001B[1;33m,\u001B[0m \u001B[0m_\u001B[0m \u001B[1;33m=\u001B[0m \u001B[0mload_training_test_set\u001B[0m\u001B[1;33m(\u001B[0m\u001B[0margs\u001B[0m\u001B[1;33m.\u001B[0m\u001B[0mfpath\u001B[0m\u001B[1;33m,\u001B[0m \u001B[0margs\u001B[0m\u001B[1;33m.\u001B[0m\u001B[0mbests\u001B[0m\u001B[1;33m)\u001B[0m\u001B[1;33m\u001B[0m\u001B[1;33m\u001B[0m\u001B[0m\n\u001B[1;32m--> 248\u001B[1;33m     \u001B[1;32melse\u001B[0m\u001B[1;33m:\u001B[0m\u001B[1;33m\u001B[0m\u001B[1;33m\u001B[0m\u001B[0m\n\u001B[0m\u001B[0;32m    249\u001B[0m         \u001B[0mtest_set_params\u001B[0m \u001B[1;33m=\u001B[0m \u001B[0mload_fixed_test_set\u001B[0m\u001B[1;33m(\u001B[0m\u001B[0margs\u001B[0m\u001B[1;33m.\u001B[0m\u001B[0mfpath\u001B[0m\u001B[1;33m,\u001B[0m \u001B[0margs\u001B[0m\u001B[1;33m.\u001B[0m\u001B[0mfixed_test_set\u001B[0m\u001B[1;33m)\u001B[0m\u001B[1;33m\u001B[0m\u001B[1;33m\u001B[0m\u001B[0m\n\u001B[0;32m    250\u001B[0m \u001B[1;33m\u001B[0m\u001B[0m\n",
      "\u001B[1;32m~\\Documents\\GitHub\\TeachMyAgent\\TeachMyAgent\\students\\test_policy.py\u001B[0m in \u001B[0;36mload_fixed_test_set\u001B[1;34m(save_path, test_set_name)\u001B[0m\n\u001B[0;32m    137\u001B[0m     \u001B[0mteacher_dict\u001B[0m \u001B[1;33m=\u001B[0m \u001B[0mload_env_params\u001B[0m\u001B[1;33m(\u001B[0m\u001B[0msave_path\u001B[0m\u001B[1;33m)\u001B[0m\u001B[1;33m\u001B[0m\u001B[1;33m\u001B[0m\u001B[0m\n\u001B[0;32m    138\u001B[0m     \u001B[0mteacher_param_env_bounds\u001B[0m \u001B[1;33m=\u001B[0m \u001B[0mOrderedDict\u001B[0m\u001B[1;33m(\u001B[0m\u001B[0mteacher_dict\u001B[0m\u001B[1;33m[\u001B[0m\u001B[1;34m\"env_param_bounds\"\u001B[0m\u001B[1;33m]\u001B[0m\u001B[1;33m)\u001B[0m\u001B[1;33m\u001B[0m\u001B[1;33m\u001B[0m\u001B[0m\n\u001B[1;32m--> 139\u001B[1;33m \u001B[1;33m\u001B[0m\u001B[0m\n\u001B[0m\u001B[0;32m    140\u001B[0m     \u001B[0mtest_param_vec\u001B[0m \u001B[1;33m=\u001B[0m \u001B[1;34m\"TeachMyAgent/teachers/test_sets/\"\u001B[0m\u001B[1;33m\u001B[0m\u001B[1;33m\u001B[0m\u001B[0m\n\u001B[0;32m    141\u001B[0m     \u001B[1;31m# test_param_vec = np.array(pickle.load(\"C:\\\\Users\\\\Vartika\\\\Documents\\\\GitHub\\\\TeachMyAgent\\\\TeachMyAgent\\\\teachers\\\\test_sets\\\\old\\\\hexagon_test_set.pkl\", \"rb\"))\u001B[0m\u001B[1;33m\u001B[0m\u001B[1;33m\u001B[0m\u001B[1;33m\u001B[0m\u001B[0m\n",
      "\u001B[1;31mFileNotFoundError\u001B[0m: [Errno 2] No such file or directory: 'TeachMyAgent/teachers/test_sets/old/stump_height0_3.0obstacle_spacing0_6.0.pkl'"
     ]
    }
   ],
   "source": [
    "rewards = test_policy_perf(data_folder, settings=[\n",
    "    {\n",
    "        \"env\": \"parametric-continuous-parkour-v0\",\n",
    "        \"embodiment\": \"old_classic_bipedal\",\n",
    "        \"bests\": True, # Whether the results on test set should be ordered by performance (best performance first)\n",
    "        \"lidars_type\": \"down\", # Use 'up' for climbers, 'down' for walkers and 'full' for swimmers\n",
    "        \"deterministic\": None, # Leave this to None\n",
    "        \"len\": 2000, # Leave this to 2000\n",
    "        \"expe_name\" : \"04-01_benchmark_parkour_RIAC_walker_type_old_classic_bipedal\",\n",
    "        \"episode_ids\": \"0\", # Nth best (or worse if bests=False) tasks to record (-1 means all the episodes). Separate tasks with '/'.\n",
    "        \"fixed_test_set\": 'old/stump_height0_3.0obstacle_spacing0_6.0', # test set to load (remove this if you want to load the test set used during the experiment),\n",
    "        \"recording_path\": \"\" # Path to save the video\n",
    "    },\n",
    "])\n",
    "print(rewards)"
   ]
  },
  {
   "cell_type": "code",
   "execution_count": null,
   "outputs": [],
   "source": [],
   "metadata": {
    "collapsed": false
   }
  }
 ],
 "metadata": {
  "kernelspec": {
   "display_name": "Python 3",
   "language": "python",
   "name": "python3"
  },
  "language_info": {
   "codemirror_mode": {
    "name": "ipython",
    "version": 3
   },
   "file_extension": ".py",
   "mimetype": "text/x-python",
   "name": "python",
   "nbconvert_exporter": "python",
   "pygments_lexer": "ipython3",
   "version": "3.7.0"
  }
 },
 "nbformat": 4,
 "nbformat_minor": 4
}
